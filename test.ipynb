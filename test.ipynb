{
 "cells": [
  {
   "cell_type": "code",
   "execution_count": 38,
   "metadata": {},
   "outputs": [
    {
     "name": "stdout",
     "output_type": "stream",
     "text": [
      "AkoD 5 апрель 13:37 T1\n",
      "\n",
      "notification_836047649_T1\n",
      "\n",
      "AkoD 5 апрель 13:38 T2\n",
      "\n",
      "notification_836047649_T2\n",
      "\n"
     ]
    }
   ],
   "source": [
    "\n",
    "with open ('./notifications.txt',encoding='utf-8') as file:\n",
    "    notifications_list = file.readlines()\n",
    "\n",
    "for line in notifications_list:\n",
    "    notification =  f\"{line.split('//')[0]} {line.split('//')[1]} {line.split('//')[3]}\"\n",
    "    notification_id = f\"notification_{line.split('//')[2]}_{line.split('//')[3]}\"\n",
    "    print(notification)\n",
    "    print(notification_id)\n"
   ]
  },
  {
   "cell_type": "code",
   "execution_count": 40,
   "metadata": {},
   "outputs": [
    {
     "name": "stdout",
     "output_type": "stream",
     "text": [
      "YES AkoD 836047649 T2.txt\n"
     ]
    }
   ],
   "source": [
    "import os\n",
    "for file in os.listdir():\n",
    "    if \"YES\" in file:\n",
    "        print(file)\n"
   ]
  },
  {
   "cell_type": "code",
   "execution_count": 38,
   "metadata": {},
   "outputs": [],
   "source": [
    "def save_data( file_name, \n",
    "                    client_name,\n",
    "                    client_id,\n",
    "                    client_SP,\n",
    "                    client_date,\n",
    "                    client_adress,\n",
    "                    client_access, \n",
    "                    client_iiko_front_IP,\n",
    "                    client_test,\n",
    "                    client_msg_date,\n",
    "                    client_iiko_front_auth = 'None',\n",
    "                    client_iiko_office_IP = 'None',\n",
    "                    client_iiko_office_auth = 'None'\n",
    "                  ):\n",
    "  with open(f\"{file_name}\",'w', encoding='utf-8') as file:\n",
    "          file.writelines(f\"Имя и id клиента:: {client_name} {client_id}\\n\")\n",
    "          file.writelines(f\"Ип:: {client_SP}\\n\")\n",
    "          file.writelines(f\"Время установки:: {client_date}\\n\")\n",
    "          file.writelines(f\"Адресс установки:: {client_adress}\\n\")\n",
    "          file.writelines(f\"Доступ к IP:: {client_access}\\n\")\n",
    "          file.writelines(f\"IP Iiko Front:: {client_iiko_front_IP}\\n\")\n",
    "\n",
    "  if 'да'in client_access:\n",
    "      with open(f\"{file_name}\",'a', encoding='utf-8') as file:\n",
    "          file.writelines(f\"Iiko Front пароль:: {client_iiko_front_auth}\\n\")\n",
    "          file.writelines(f\"IP Iiko Office:: {client_iiko_office_IP}\\n\")\n",
    "          file.writelines(f\"Iiko Office логин,пароль:: {client_iiko_office_auth}\\n\")\n",
    "\n",
    "  with open(f\"{file_name}\",'a', encoding='utf-8') as file:\n",
    "          file.writelines(f\"Разрешение на тестирование:: {client_test}\\n\")\n",
    "          file.writelines(f\"Данная заявка была отправлена:: {client_msg_date}\\n\")"
   ]
  },
  {
   "cell_type": "code",
   "execution_count": 39,
   "metadata": {},
   "outputs": [],
   "source": [
    "save_data( file_name = 'xxxx.txt', \n",
    "                    client_name = 'lollipo',\n",
    "                    client_id = '6847546',\n",
    "                    client_SP = 'aaaaaaa',\n",
    "                    client_date = '28.411..455..245',\n",
    "                    client_adress = 'bbbbbbb',\n",
    "                    client_access = 'нет', \n",
    "                    client_iiko_front_IP ='ccc' ,\n",
    "                    client_test = 'да',\n",
    "                    client_msg_date ='23...123' \n",
    "                  )"
   ]
  }
 ],
 "metadata": {
  "kernelspec": {
   "display_name": ".venv",
   "language": "python",
   "name": "python3"
  },
  "language_info": {
   "codemirror_mode": {
    "name": "ipython",
    "version": 3
   },
   "file_extension": ".py",
   "mimetype": "text/x-python",
   "name": "python",
   "nbconvert_exporter": "python",
   "pygments_lexer": "ipython3",
   "version": "3.10.7"
  },
  "orig_nbformat": 4
 },
 "nbformat": 4,
 "nbformat_minor": 2
}
